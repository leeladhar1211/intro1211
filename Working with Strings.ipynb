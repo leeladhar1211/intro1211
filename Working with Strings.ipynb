{
 "cells": [
  {
   "cell_type": "markdown",
   "metadata": {},
   "source": [
    "String Literals\n",
    "Strings can begin and end with double quotes, just as they do with single quotes. One benefit of using double quotes is that the string can have a single quote "
   ]
  },
  {
   "cell_type": "code",
   "execution_count": 1,
   "metadata": {},
   "outputs": [],
   "source": [
    "spam = \"That is Alice's cat.\""
   ]
  },
  {
   "cell_type": "code",
   "execution_count": 3,
   "metadata": {},
   "outputs": [
    {
     "name": "stdout",
     "output_type": "stream",
     "text": [
      "That is Alice's cat.\n"
     ]
    }
   ],
   "source": [
    "print(spam)"
   ]
  },
  {
   "cell_type": "code",
   "execution_count": 5,
   "metadata": {},
   "outputs": [
    {
     "data": {
      "text/plain": [
       "\"Say hi to Bob's mother.\""
      ]
     },
     "execution_count": 5,
     "metadata": {},
     "output_type": "execute_result"
    }
   ],
   "source": [
    "# Escape Characters\n",
    "'Say hi to Bob\\'s mother.'"
   ]
  },
  {
   "cell_type": "markdown",
   "metadata": {},
   "source": [
    "An escape character lets you use characters that are otherwise impossible to put into a string. An escape character consists of a backslash (\\) followed by the character you want to add to the string. (Despite consisting of two characters, it is commonly referred to as a singular escape character.) For example, the escape character for a single quote is \\'. You can use this inside a string that begins and ends with single quotes\n",
    "\n",
    "\\'      Single quote\n",
    " \n",
    "\\\"      Double quote\n",
    " \n",
    "\\t      Tab\n",
    " \n",
    "\\n      Newline (line break)\n",
    " \n",
    "\\\\      Backslash"
   ]
  },
  {
   "cell_type": "code",
   "execution_count": 6,
   "metadata": {},
   "outputs": [
    {
     "name": "stdout",
     "output_type": "stream",
     "text": [
      "Hello there!\n",
      "How are you?\n",
      "I'm doing fine.\n"
     ]
    }
   ],
   "source": [
    " print(\"Hello there!\\nHow are you?\\nI\\'m doing fine.\")"
   ]
  },
  {
   "cell_type": "markdown",
   "metadata": {},
   "source": [
    "#Raw Strings\n",
    "You can place an r before the beginning quotation mark of a string to make it a raw string. A raw string completely ignores all escape characters and prints any backslash that appears in the string"
   ]
  },
  {
   "cell_type": "code",
   "execution_count": 7,
   "metadata": {},
   "outputs": [
    {
     "name": "stdout",
     "output_type": "stream",
     "text": [
      "That is Carol\\'s cat.\n"
     ]
    }
   ],
   "source": [
    "print(r'That is Carol\\'s cat.')"
   ]
  },
  {
   "cell_type": "markdown",
   "metadata": {},
   "source": [
    "Multiline Strings with Triple Quotes\n",
    "While you can use the \\n escape character to put a newline into a string, it is often easier to use multiline strings. A multiline string in Python begins and ends with either three single quotes or three double quotes. Any quotes, tabs, or newlines in between the “triple quotes” are considered part of the string. Python’s indentation rules for blocks do not apply to lines inside a multiline string."
   ]
  },
  {
   "cell_type": "code",
   "execution_count": 8,
   "metadata": {},
   "outputs": [
    {
     "name": "stdout",
     "output_type": "stream",
     "text": [
      "Dear Alice,\n",
      "\n",
      "Eve's cat has been arrested for catnapping, cat burglary, and extortion.\n",
      "\n",
      "Sincerely,\n",
      "Bob\n"
     ]
    }
   ],
   "source": [
    "print('''Dear Alice,\n",
    "\n",
    "Eve's cat has been arrested for catnapping, cat burglary, and extortion.\n",
    "\n",
    "Sincerely,\n",
    "Bob''')"
   ]
  },
  {
   "cell_type": "markdown",
   "metadata": {},
   "source": [
    "Notice that the single quote character in Eve's does not need to be escaped. Escaping single and double quotes is optional in raw strings. The following print() call would print identical text but doesn’t use a multiline string:"
   ]
  },
  {
   "cell_type": "code",
   "execution_count": 13,
   "metadata": {},
   "outputs": [
    {
     "name": "stdout",
     "output_type": "stream",
     "text": [
      "Dear Alice,\n",
      "\n",
      "Eve's cat has been arrested for catnapping, cat burglary, and extortion.\n",
      "\n",
      "Sincerely,\n",
      "Bob\n"
     ]
    }
   ],
   "source": [
    "print('Dear Alice,\\n\\nEve\\'s cat has been arrested for catnapping, cat burglary, and extortion.\\n\\nSincerely,\\nBob')"
   ]
  },
  {
   "cell_type": "code",
   "execution_count": 16,
   "metadata": {},
   "outputs": [
    {
     "name": "stdout",
     "output_type": "stream",
     "text": [
      "Hello!\n"
     ]
    }
   ],
   "source": [
    "#Multiline Comments\n",
    "def spam():\n",
    "    \"\"\"This is a multiline comment to help\n",
    "    explain what the spam() function does.\"\"\"\n",
    "print('Hello!')"
   ]
  },
  {
   "cell_type": "code",
   "execution_count": 17,
   "metadata": {},
   "outputs": [
    {
     "data": {
      "text/plain": [
       "'H'"
      ]
     },
     "execution_count": 17,
     "metadata": {},
     "output_type": "execute_result"
    }
   ],
   "source": [
    "# Indexing and Slicing Strings Strings use indexes and slices the same way lists do\n",
    "spam = 'Hello world!'\n",
    "spam[0]"
   ]
  },
  {
   "cell_type": "code",
   "execution_count": 18,
   "metadata": {},
   "outputs": [
    {
     "data": {
      "text/plain": [
       "'world!'"
      ]
     },
     "execution_count": 18,
     "metadata": {},
     "output_type": "execute_result"
    }
   ],
   "source": [
    "spam[6:]"
   ]
  },
  {
   "cell_type": "code",
   "execution_count": 19,
   "metadata": {},
   "outputs": [
    {
     "data": {
      "text/plain": [
       "'Hello'"
      ]
     },
     "execution_count": 19,
     "metadata": {},
     "output_type": "execute_result"
    }
   ],
   "source": [
    "#Note that slicing a string does not modify the original string. \n",
    "#You can capture a slice from one variable in a separate variable\n",
    "spam = 'Hello world!'\n",
    "fizz = spam[0:5]\n",
    "fizz"
   ]
  },
  {
   "cell_type": "markdown",
   "metadata": {},
   "source": [
    "The in and not in Operators with Strings The in and not in operators can be used with strings just like with list values. An expression with two strings joined using in or not in will evaluate to a Boolean True or False."
   ]
  },
  {
   "cell_type": "code",
   "execution_count": 20,
   "metadata": {},
   "outputs": [
    {
     "data": {
      "text/plain": [
       "False"
      ]
     },
     "execution_count": 20,
     "metadata": {},
     "output_type": "execute_result"
    }
   ],
   "source": [
    "'cats' not in 'cats and dogs'"
   ]
  },
  {
   "cell_type": "code",
   "execution_count": null,
   "metadata": {},
   "outputs": [],
   "source": [
    "## Useful String Methods \n",
    "The upper(), lower(), isupper(), and islower() String Methods"
   ]
  },
  {
   "cell_type": "code",
   "execution_count": 24,
   "metadata": {},
   "outputs": [
    {
     "data": {
      "text/plain": [
       "'HELLO WORLD!'"
      ]
     },
     "execution_count": 24,
     "metadata": {},
     "output_type": "execute_result"
    }
   ],
   "source": [
    "\"\"\"Note that these methods do not change the string itself but return new string values. If you want to change\n",
    "the original string, you have to call upper() or lower() on the string and then assign the new string to the variable where the original was stored\"\"\"\n",
    "spam = 'Hello world!'\n",
    "spam = spam.upper()\n",
    "spam"
   ]
  },
  {
   "cell_type": "markdown",
   "metadata": {},
   "source": [
    "The isupper() and islower() methods will return a Boolean True value if the string has at least one letter and all the letters are uppercase or lowercase, respectively. Otherwise, the method returns False."
   ]
  },
  {
   "cell_type": "code",
   "execution_count": 29,
   "metadata": {},
   "outputs": [
    {
     "data": {
      "text/plain": [
       "False"
      ]
     },
     "execution_count": 29,
     "metadata": {},
     "output_type": "execute_result"
    }
   ],
   "source": [
    "spam = 'Hello world!'\n",
    "spam.islower()"
   ]
  },
  {
   "cell_type": "code",
   "execution_count": 30,
   "metadata": {},
   "outputs": [
    {
     "data": {
      "text/plain": [
       "False"
      ]
     },
     "execution_count": 30,
     "metadata": {},
     "output_type": "execute_result"
    }
   ],
   "source": [
    "'12345'.islower()"
   ]
  },
  {
   "cell_type": "code",
   "execution_count": 31,
   "metadata": {},
   "outputs": [
    {
     "data": {
      "text/plain": [
       "'HELLO'"
      ]
     },
     "execution_count": 31,
     "metadata": {},
     "output_type": "execute_result"
    }
   ],
   "source": [
    "'Hello'.upper()"
   ]
  },
  {
   "cell_type": "code",
   "execution_count": 32,
   "metadata": {},
   "outputs": [
    {
     "data": {
      "text/plain": [
       "'HELLO'"
      ]
     },
     "execution_count": 32,
     "metadata": {},
     "output_type": "execute_result"
    }
   ],
   "source": [
    "'Hello'.upper().lower().upper()"
   ]
  },
  {
   "cell_type": "markdown",
   "metadata": {},
   "source": [
    "##### The isX String Methods\n",
    "Along with islower() and isupper(), there are several string methods that have names beginning with the word is. These methods return a Boolean value that describes the nature of the string. Here are some common isX string methods:\n",
    "\n",
    "isalpha() returns True if the string consists only of letters and is not blank.\n",
    "isalnum() returns True if the string consists only of letters and numbers and is not blank.\n",
    "isdecimal() returns True if the string consists only of numeric characters and is not blank.\n",
    "isspace() returns True if the string consists only of spaces, tabs, and new-lines and is not blank.\n",
    "istitle() returns True if the string consists only of words that begin with an uppercase letter followed by only lowercase letters."
   ]
  },
  {
   "cell_type": "code",
   "execution_count": 33,
   "metadata": {},
   "outputs": [
    {
     "name": "stdout",
     "output_type": "stream",
     "text": [
      "Enter your age:\n",
      "97\n",
      "Select a new password (letters and numbers only):\n",
      "lhkrh\n"
     ]
    }
   ],
   "source": [
    "while True:\n",
    "    print('Enter your age:')\n",
    "    age = input()\n",
    "    if age.isdecimal():\n",
    "        break\n",
    "    print('Please enter a number for your age.')\n",
    "\n",
    "while True:\n",
    "    print('Select a new password (letters and numbers only):')\n",
    "    password = input()\n",
    "    if password.isalnum():\n",
    "        break\n",
    "    print('Passwords can only have letters and numbers.')"
   ]
  },
  {
   "cell_type": "markdown",
   "metadata": {},
   "source": [
    "#### The startswith() and endswith() String Methods\n",
    "The startswith() and endswith() methods return True if the string value they are called on begins or ends (respectively) with the string passed to the method; otherwise, they return False. Enter the following into the interactive shell:\n",
    "These methods are useful alternatives to the == equals operator if you need to check only whether the first or last part of the string, rather than the whole thing, is equal to another string."
   ]
  },
  {
   "cell_type": "code",
   "execution_count": 34,
   "metadata": {},
   "outputs": [
    {
     "data": {
      "text/plain": [
       "True"
      ]
     },
     "execution_count": 34,
     "metadata": {},
     "output_type": "execute_result"
    }
   ],
   "source": [
    "'Hello world!'.startswith('Hello')"
   ]
  },
  {
   "cell_type": "markdown",
   "metadata": {},
   "source": [
    "#### The join() and split() String Methods\n",
    "The join() method is useful when you have a list of strings that need to be joined together into a single string value. The join() method is called on a string, gets passed a list of strings, and returns a string. The returned string is the concatenation of each string in the passed-in list. "
   ]
  },
  {
   "cell_type": "code",
   "execution_count": 36,
   "metadata": {},
   "outputs": [
    {
     "data": {
      "text/plain": [
       "'cats, rats, bats'"
      ]
     },
     "execution_count": 36,
     "metadata": {},
     "output_type": "execute_result"
    }
   ],
   "source": [
    "', '.join(['cats', 'rats', 'bats'])"
   ]
  },
  {
   "cell_type": "code",
   "execution_count": 37,
   "metadata": {},
   "outputs": [
    {
     "data": {
      "text/plain": [
       "'My name is Simon'"
      ]
     },
     "execution_count": 37,
     "metadata": {},
     "output_type": "execute_result"
    }
   ],
   "source": [
    " ' '.join(['My', 'name', 'is', 'Simon'])"
   ]
  },
  {
   "cell_type": "code",
   "execution_count": 38,
   "metadata": {},
   "outputs": [
    {
     "data": {
      "text/plain": [
       "'MyABCnameABCisABCSimon'"
      ]
     },
     "execution_count": 38,
     "metadata": {},
     "output_type": "execute_result"
    }
   ],
   "source": [
    "'ABC'.join(['My', 'name', 'is', 'Simon'])"
   ]
  },
  {
   "cell_type": "code",
   "execution_count": 39,
   "metadata": {},
   "outputs": [
    {
     "data": {
      "text/plain": [
       "['My', 'name', 'is', 'Simon']"
      ]
     },
     "execution_count": 39,
     "metadata": {},
     "output_type": "execute_result"
    }
   ],
   "source": [
    "#### The split() method does the opposite\n",
    "'My name is Simon'.split()"
   ]
  },
  {
   "cell_type": "code",
   "execution_count": 40,
   "metadata": {},
   "outputs": [
    {
     "data": {
      "text/plain": [
       "['My', 'name', 'is', 'Simon']"
      ]
     },
     "execution_count": 40,
     "metadata": {},
     "output_type": "execute_result"
    }
   ],
   "source": [
    "'MyABCnameABCisABCSimon'.split('ABC')"
   ]
  },
  {
   "cell_type": "code",
   "execution_count": 41,
   "metadata": {},
   "outputs": [
    {
     "data": {
      "text/plain": [
       "['My na', 'e is Si', 'on']"
      ]
     },
     "execution_count": 41,
     "metadata": {},
     "output_type": "execute_result"
    }
   ],
   "source": [
    "'My name is Simon'.split('m')\n",
    "##A common use of split() is to split a multiline string along the newline characters"
   ]
  },
  {
   "cell_type": "markdown",
   "metadata": {},
   "source": [
    "##### Justifying Text with rjust(), ljust(), and center()\n",
    "The rjust() and ljust() string methods return a padded version of the string they are called on, with spaces inserted to justify the text. The first argument to both methods is an integer length for the justified string."
   ]
  },
  {
   "cell_type": "code",
   "execution_count": 42,
   "metadata": {},
   "outputs": [
    {
     "data": {
      "text/plain": [
       "'     Hello'"
      ]
     },
     "execution_count": 42,
     "metadata": {},
     "output_type": "execute_result"
    }
   ],
   "source": [
    "'Hello'.rjust(10)"
   ]
  },
  {
   "cell_type": "code",
   "execution_count": 43,
   "metadata": {},
   "outputs": [
    {
     "data": {
      "text/plain": [
       "'***************Hello'"
      ]
     },
     "execution_count": 43,
     "metadata": {},
     "output_type": "execute_result"
    }
   ],
   "source": [
    "'Hello'.rjust(20, '*')"
   ]
  },
  {
   "cell_type": "code",
   "execution_count": 44,
   "metadata": {},
   "outputs": [
    {
     "data": {
      "text/plain": [
       "'=======Hello========'"
      ]
     },
     "execution_count": 44,
     "metadata": {},
     "output_type": "execute_result"
    }
   ],
   "source": [
    "# The center() string method works similar but centers the text rather than justifying it to the left or right\n",
    "'Hello'.center(20, '=')"
   ]
  },
  {
   "cell_type": "markdown",
   "metadata": {},
   "source": [
    "#### Removing Whitespace with strip(), rstrip(), and lstrip()\n",
    "Sometimes you may want to strip off whitespace characters (space, tab, and newline) from the left side, right side, or both sides of a string. The strip() string method will return a new string without any whitespace characters at the beginning or end"
   ]
  },
  {
   "cell_type": "code",
   "execution_count": 46,
   "metadata": {},
   "outputs": [
    {
     "data": {
      "text/plain": [
       "'Hello World'"
      ]
     },
     "execution_count": 46,
     "metadata": {},
     "output_type": "execute_result"
    }
   ],
   "source": [
    "spam = '    Hello World     '\n",
    "spam.strip()"
   ]
  },
  {
   "cell_type": "markdown",
   "metadata": {},
   "source": [
    "Optionally, a string argument will specify which characters on the ends should be stripped. Enter the following into the interactive shell:\n",
    "spam = 'SpamSpamBaconSpamEggsSpamSpam'\n",
    "spam.strip('ampS')\n",
    "'BaconSpamEggs'\n",
    "Passing strip() the argument 'ampS' will tell it to strip occurences of a, m, p, and capital S from the ends of the string stored in spam. The order of the characters in the string passed to strip() does not matter: strip('ampS') will do the same thing as strip('mapS') or strip('Spam')."
   ]
  },
  {
   "cell_type": "markdown",
   "metadata": {},
   "source": [
    "#Copying and Pasting Strings with the pyperclip Module\n",
    "The pyperclip module has copy() and paste() functions that can send text to and receive text from your computer’s clipboard. Sending the output of your program to the clipboard will make it easy to paste it to an email, word processor, or some other software.it does not come with python we have to installl the package"
   ]
  },
  {
   "cell_type": "markdown",
   "metadata": {},
   "source": [
    "###### Finding Patterns of Text With Regular Expressions\n",
    " \\d in a regex stands for a digit character—that is, any single numeral 0 to 9.we have to import re module to work with python reg expressions To create a Regex object that matches the phone number pattern, enter the following into the interactive shell. (Remember that \\d means “a digit character” and \\d\\d\\d-\\d\\d\\d-\\d\\d\\d\\d is the regular expression for the correct phone number pattern.)\n",
    " Remember that escape characters in Python use the backslash (\\). The string value '\\n' represents a single newline character, not a backslash followed by a lowercase n. You need to enter the escape character \\\\ to print a single backslash. So '\\\\n' is the string that represents a backslash followed by a lowercase n. However, by putting an r before the first quote of the string value, you can mark the string as a raw string, which does not escape characters.\n",
    "\n",
    "Since regular expressions frequently use backslashes in them, it is convenient to pass raw strings to the re.compile() function instead of typing extra backslashes. Typing r'\\d\\d\\d-\\d\\d\\d-\\d\\d\\d\\d' is much easier than typing '\\\\d\\\\d\\\\d-\\\\d\\\\d\\\\d-\\\\d\\\\d\\\\d\\\\d'\n"
   ]
  },
  {
   "cell_type": "code",
   "execution_count": 2,
   "metadata": {},
   "outputs": [
    {
     "name": "stdout",
     "output_type": "stream",
     "text": [
      "Phone number found: 415-555-4242\n"
     ]
    }
   ],
   "source": [
    "import re   # The mo variable name is just a generic name to use for Match objects\n",
    "phoneNumRegex = re.compile(r'\\d\\d\\d-\\d\\d\\d-\\d\\d\\d\\d')\n",
    "mo = phoneNumRegex.search('My number is 415-555-4242.')\n",
    "print('Phone number found: ' + mo.group())"
   ]
  },
  {
   "cell_type": "code",
   "execution_count": null,
   "metadata": {},
   "outputs": [],
   "source": [
    "steps to write any reg expression\n",
    "1.Import the regex module with import re.\n",
    "2.Create a Regex object with the re.compile() function. (Remember to use a raw string.)\n",
    "3.Pass the string you want to search into the Regex object’s search() method. This returns a Match object.\n",
    "4.Call the Match object’s group() method to return a string of the actual matched text"
   ]
  },
  {
   "cell_type": "markdown",
   "metadata": {},
   "source": [
    "#Grouping with Parentheses\n",
    "Say you want to separate the area code from the rest of the phone number. Adding parentheses will create groups in the regex: (\\d\\d\\d)-(\\d\\d\\d-\\d\\d\\d\\d). Then you can use the group() match object method to grab the matching text from just one group."
   ]
  },
  {
   "cell_type": "code",
   "execution_count": 48,
   "metadata": {},
   "outputs": [
    {
     "data": {
      "text/plain": [
       "'415'"
      ]
     },
     "execution_count": 48,
     "metadata": {},
     "output_type": "execute_result"
    }
   ],
   "source": [
    "phoneNumRegex = re.compile(r'(\\d\\d\\d)-(\\d\\d\\d-\\d\\d\\d\\d)')\n",
    "mo = phoneNumRegex.search('My number is 415-555-4242.')\n",
    "mo.group(1)"
   ]
  },
  {
   "cell_type": "code",
   "execution_count": 49,
   "metadata": {},
   "outputs": [
    {
     "data": {
      "text/plain": [
       "'555-4242'"
      ]
     },
     "execution_count": 49,
     "metadata": {},
     "output_type": "execute_result"
    }
   ],
   "source": [
    "mo.group(2)"
   ]
  },
  {
   "cell_type": "code",
   "execution_count": 50,
   "metadata": {},
   "outputs": [
    {
     "data": {
      "text/plain": [
       "'415-555-4242'"
      ]
     },
     "execution_count": 50,
     "metadata": {},
     "output_type": "execute_result"
    }
   ],
   "source": [
    "mo.group(0)"
   ]
  },
  {
   "cell_type": "code",
   "execution_count": 51,
   "metadata": {},
   "outputs": [
    {
     "data": {
      "text/plain": [
       "'(415)'"
      ]
     },
     "execution_count": 51,
     "metadata": {},
     "output_type": "execute_result"
    }
   ],
   "source": [
    "phoneNumRegex = re.compile(r'(\\(\\d\\d\\d\\)) (\\d\\d\\d-\\d\\d\\d\\d)')\n",
    "mo = phoneNumRegex.search('My phone number is (415) 555-4242.')\n",
    "mo.group(1)"
   ]
  },
  {
   "cell_type": "code",
   "execution_count": 52,
   "metadata": {},
   "outputs": [
    {
     "data": {
      "text/plain": [
       "'555-4242'"
      ]
     },
     "execution_count": 52,
     "metadata": {},
     "output_type": "execute_result"
    }
   ],
   "source": [
    "mo.group(2)"
   ]
  },
  {
   "cell_type": "markdown",
   "metadata": {},
   "source": [
    "Parentheses have a special meaning in regular expressions, but what do you do if you need to match a parenthesis in your text? For instance, maybe the phone numbers you are trying to match have the area code set in parentheses. In this case, you need to escape the ( and ) characters with a backslash. Enter the following into the interactive shell:\n",
    "The \\( and \\) escape characters in the raw string passed to re.compile() will match actual parenthesis characters."
   ]
  },
  {
   "cell_type": "markdown",
   "metadata": {},
   "source": [
    "##### Matching Multiple Groups with the Pipe\n",
    "The | character is called a pipe. You can use it anywhere you want to match one of many expressions. For example, the regular expression r'Batman|Tina Fey' will match either 'Batman' or 'Tina Fey'.\n",
    "When both Batman and Tina Fey occur in the searched string, the first occurrence of matching text will be returned as the Match object.You can find all matching occurrences with the findall() method"
   ]
  },
  {
   "cell_type": "code",
   "execution_count": 4,
   "metadata": {},
   "outputs": [
    {
     "data": {
      "text/plain": [
       "'Batman'"
      ]
     },
     "execution_count": 4,
     "metadata": {},
     "output_type": "execute_result"
    }
   ],
   "source": [
    "heroRegex = re.compile (r'Batman|Tina Fey')\n",
    "mo1 = heroRegex.search('Batman and Tina Fey.')\n",
    "mo1.group()\n",
    "'Batman'"
   ]
  },
  {
   "cell_type": "code",
   "execution_count": 5,
   "metadata": {},
   "outputs": [
    {
     "data": {
      "text/plain": [
       "'Tina Fey'"
      ]
     },
     "execution_count": 5,
     "metadata": {},
     "output_type": "execute_result"
    }
   ],
   "source": [
    "mo2 = heroRegex.search('Tina Fey and Batman.')\n",
    "mo2.group()\n",
    "'Tina Fey'"
   ]
  },
  {
   "cell_type": "code",
   "execution_count": 7,
   "metadata": {},
   "outputs": [
    {
     "data": {
      "text/plain": [
       "'Batmobile'"
      ]
     },
     "execution_count": 7,
     "metadata": {},
     "output_type": "execute_result"
    }
   ],
   "source": [
    "batRegex = re.compile(r'Bat(man|mobile|copter|bat)')\n",
    "mo = batRegex.search('Batmobile lost a wheel')\n",
    "mo.group()"
   ]
  },
  {
   "cell_type": "code",
   "execution_count": 8,
   "metadata": {},
   "outputs": [
    {
     "data": {
      "text/plain": [
       "'mobile'"
      ]
     },
     "execution_count": 8,
     "metadata": {},
     "output_type": "execute_result"
    }
   ],
   "source": [
    "mo.group(1)"
   ]
  },
  {
   "cell_type": "markdown",
   "metadata": {},
   "source": [
    "The method call mo.group() returns the full matched text 'Batmobile', while mo.group(1) returns just the part of the matched text inside the first parentheses group, 'mobile'. By using the pipe character and grouping parentheses, you can specify several alternative patterns you would like your regex to match.If you need to match an actual pipe character, escape it with a backslash, like \\|."
   ]
  },
  {
   "cell_type": "markdown",
   "metadata": {},
   "source": [
    "###### Optional Matching with the Question Mark\n",
    "Sometimes there is a pattern that you want to match only optionally. That is, the regex should find a match whether or not that bit of text is there. The ? character flags the group that precedes it as an optional part of the pattern.The (wo)? part of the regular expression means that the pattern wo is an optional group. The regex will match text that has zero instances or one instance of wo in it"
   ]
  },
  {
   "cell_type": "code",
   "execution_count": 9,
   "metadata": {},
   "outputs": [
    {
     "name": "stdout",
     "output_type": "stream",
     "text": [
      "Batman\n",
      "Batwoman\n"
     ]
    }
   ],
   "source": [
    "batRegex = re.compile(r'Bat(wo)?man')\n",
    "mo1 = batRegex.search('The Adventures of Batman')\n",
    "print(mo1.group())\n",
    "mo2 = batRegex.search('The Adventures of Batwoman')\n",
    "print(mo2.group())\n"
   ]
  },
  {
   "cell_type": "code",
   "execution_count": 10,
   "metadata": {},
   "outputs": [
    {
     "name": "stdout",
     "output_type": "stream",
     "text": [
      "415-555-4242\n",
      "555-4242\n"
     ]
    }
   ],
   "source": [
    "#If you need to match an actual question mark character, escape it with \\?.\n",
    "phoneRegex = re.compile(r'(\\d\\d\\d-)?\\d\\d\\d-\\d\\d\\d\\d')\n",
    "mo1 = phoneRegex.search('My number is 415-555-4242')\n",
    "print(mo1.group())\n",
    "mo2 = phoneRegex.search('My number is 555-4242')\n",
    "print(mo2.group())"
   ]
  },
  {
   "cell_type": "markdown",
   "metadata": {},
   "source": [
    "####### Matching Zero or More with the Star\n",
    "The * (called the star or asterisk) means “match zero or more”—the group that precedes the star can occur any number of times in the text. It can be completely absent or repeated over and over again\n",
    "For 'Batman', the (wo)* part of the regex matches zero instances of wo in the string; for 'Batwoman', the (wo)* matches one instance of wo; and for 'Batwowowowoman', (wo)* matches four instances of wo.\n",
    "\n",
    "If you need to match an actual star character, prefix the star in the regular expression with a backslash, \\*."
   ]
  },
  {
   "cell_type": "code",
   "execution_count": 11,
   "metadata": {},
   "outputs": [
    {
     "name": "stdout",
     "output_type": "stream",
     "text": [
      "Batman\n",
      "Batwoman\n",
      "Batwowowowoman\n"
     ]
    }
   ],
   "source": [
    "batRegex = re.compile(r'Bat(wo)*man')\n",
    "mo1 = batRegex.search('The Adventures of Batman')\n",
    "print(mo1.group())\n",
    "mo2 = batRegex.search('The Adventures of Batwoman')\n",
    "print(mo2.group())\n",
    "mo3 = batRegex.search('The Adventures of Batwowowowoman')\n",
    "print(mo3.group())"
   ]
  },
  {
   "cell_type": "markdown",
   "metadata": {},
   "source": [
    "##### matching One or More with the Plus\n",
    "While * means “match zero or more,” the + (or plus) means “match one or more.” Unlike the star, which does not require its group to appear in the matched string, the group preceding a plus must appear at least once. It is not optional.The regex Bat(wo)+man will not match the string 'The Adventures of Batman' because at least one wo is required by the plus sign."
   ]
  },
  {
   "cell_type": "code",
   "execution_count": 12,
   "metadata": {},
   "outputs": [
    {
     "name": "stdout",
     "output_type": "stream",
     "text": [
      "Batwoman\n",
      "Batwowowowoman\n"
     ]
    },
    {
     "data": {
      "text/plain": [
       "True"
      ]
     },
     "execution_count": 12,
     "metadata": {},
     "output_type": "execute_result"
    }
   ],
   "source": [
    "batRegex = re.compile(r'Bat(wo)+man')\n",
    "mo1 = batRegex.search('The Adventures of Batwoman')\n",
    "print(mo1.group())\n",
    "mo2 = batRegex.search('The Adventures of Batwowowowoman')\n",
    "print(mo2.group())\n",
    "mo3 = batRegex.search('The Adventures of Batman')\n",
    "mo3 == None"
   ]
  },
  {
   "cell_type": "code",
   "execution_count": 20,
   "metadata": {},
   "outputs": [
    {
     "name": "stdout",
     "output_type": "stream",
     "text": [
      "HaHaHaHaHa\n"
     ]
    },
    {
     "data": {
      "text/plain": [
       "True"
      ]
     },
     "execution_count": 20,
     "metadata": {},
     "output_type": "execute_result"
    }
   ],
   "source": [
    "#### Matching Specific Repetitions with Curly Bracket\n",
    "# Here, (Ha){3} matches 'HaHaHa' but not 'Ha'. Since it doesn’t match 'Ha', search() returns None.\n",
    "haRegex = re.compile(r'(Ha){3}')\n",
    "mo1 = haRegex.search('HaHaHa''Ha''HaHaHaHaHa')\n",
    "print(mo1.group())\n",
    "mo2 = haRegex.search('Ha')\n",
    "mo2 == None\n",
    "True"
   ]
  },
  {
   "cell_type": "markdown",
   "metadata": {},
   "source": [
    "Since (Ha){3,5} can match three, four, or five instances of Ha in the string 'HaHaHaHaHa', you may wonder why the Match object’s call to group() in the previous curly bracket example returns 'HaHaHaHaHa' instead of the shorter possibilities. After all, 'HaHaHa' and 'HaHaHaHa' are also valid matches of the regular expression (Ha){3,5}.\n",
    "Python’s regular expressions are greedy by default, which means that in ambiguous situations they will match the longest string possible. The non-greedy version of the curly brackets, which matches the shortest string possible, has the closing curly bracket followed by a question mark."
   ]
  },
  {
   "cell_type": "code",
   "execution_count": 21,
   "metadata": {},
   "outputs": [
    {
     "name": "stdout",
     "output_type": "stream",
     "text": [
      "HaHaHaHaHa\n",
      "HaHaHa\n"
     ]
    }
   ],
   "source": [
    "#Note that the question mark can have two meanings in regular expressions: declaring a nongreedy match or \n",
    "#flagging an optional group. These meanings are entirely unrelated.\n",
    "greedyHaRegex = re.compile(r'(Ha){3,5}')\n",
    "mo1 = greedyHaRegex.search('HaHaHaHaHa')\n",
    "print(mo1.group())\n",
    "nongreedyHaRegex = re.compile(r'(Ha){3,5}?')\n",
    "mo2 = nongreedyHaRegex.search('HaHaHaHaHa')\n",
    "print(mo2.group())"
   ]
  },
  {
   "cell_type": "markdown",
   "metadata": {},
   "source": [
    "#### The findall() Method\n",
    "While search() will return a Match object of the first matched text in the searched string, the findall() method will return the strings of every match in the searched string"
   ]
  },
  {
   "cell_type": "code",
   "execution_count": 22,
   "metadata": {},
   "outputs": [
    {
     "name": "stdout",
     "output_type": "stream",
     "text": [
      "415-555-9999\n"
     ]
    },
    {
     "data": {
      "text/plain": [
       "['415-555-9999', '212-555-0000']"
      ]
     },
     "execution_count": 22,
     "metadata": {},
     "output_type": "execute_result"
    }
   ],
   "source": [
    "phoneNumRegex = re.compile(r'\\d\\d\\d-\\d\\d\\d-\\d\\d\\d\\d')\n",
    "mo = phoneNumRegex.search('Cell: 415-555-9999 Work: 212-555-0000')\n",
    "print(mo.group())\n",
    "phoneNumRegex = re.compile(r'\\d\\d\\d-\\d\\d\\d-\\d\\d\\d\\d') # has no groups\n",
    "phoneNumRegex.findall('Cell: 415-555-9999 Work: 212-555-0000')\n"
   ]
  },
  {
   "cell_type": "markdown",
   "metadata": {},
   "source": [
    "If there are groups in the regular expression, then findall() will return a list of tuples. Each tuple represents a found match, and its items are the matched strings for each group in the regex."
   ]
  },
  {
   "cell_type": "code",
   "execution_count": 23,
   "metadata": {},
   "outputs": [
    {
     "data": {
      "text/plain": [
       "[('415', '555', '9999'), ('212', '555', '0000')]"
      ]
     },
     "execution_count": 23,
     "metadata": {},
     "output_type": "execute_result"
    }
   ],
   "source": [
    "phoneNumRegex = re.compile(r'(\\d\\d\\d)-(\\d\\d\\d)-(\\d\\d\\d\\d)') # has groups\n",
    "phoneNumRegex.findall('Cell: 415-555-9999 Work: 212-555-0000')"
   ]
  },
  {
   "cell_type": "markdown",
   "metadata": {},
   "source": [
    "To summarize what the findall() method returns, remember the following:\n",
    "1.When called on a regex with no groups, such as \\d\\d\\d-\\d\\d\\d-\\d\\d\\d\\d, the method findall() returns a list of string matches, such as ['415-555-9999', '212-555-0000'].\n",
    "2.When called on a regex that has groups, such as (\\d\\d\\d)-(\\d\\d\\d)-(\\d\\ d\\d\\d), the method findall() returns a list of tuples of strings (one string for each group), such as [('415', '555', '9999'), ('212', '555', '0000')]."
   ]
  },
  {
   "cell_type": "markdown",
   "metadata": {},
   "source": [
    "#### Character Classes\n",
    "\\d  :Any numeric digit from 0 to 9.\n",
    "\\D  :Any character that is not a numeric digit from 0 to 9.\n",
    "\\w  :Any letter, numeric digit, or the underscore character. (Think of this as matching “word” characters.)\n",
    "\\W  :Any character that is not a letter, numeric digit, or the underscore character.\n",
    "\\s  :Any space, tab, or newline character. (Think of this as matching “space” characters.)\n",
    "\\S  :Any character that is not a space, tab, or newline.\n",
    "Character classes are nice for shortening regular expressions. The character class [0-5] will match only the numbers 0 to 5; this is much shorter than typing (0|1|2|3|4|5)."
   ]
  },
  {
   "cell_type": "code",
   "execution_count": 25,
   "metadata": {},
   "outputs": [
    {
     "data": {
      "text/plain": [
       "['12 drummers',\n",
       " '11 pipers',\n",
       " '10 lords',\n",
       " '9 ladies',\n",
       " '8 maids',\n",
       " '7 swans',\n",
       " '6 geese',\n",
       " '5 rings',\n",
       " '4 birds',\n",
       " '3 hens',\n",
       " '2 doves',\n",
       " '1 partridge']"
      ]
     },
     "execution_count": 25,
     "metadata": {},
     "output_type": "execute_result"
    }
   ],
   "source": [
    "xmasRegex = re.compile(r'\\d+\\s\\w+')\n",
    "xmasRegex.findall('12 drummers, 11 pipers, 10 lords, 9 ladies, 8 maids, 7 swans, 6 geese, 5 rings, 4 birds, 3 hens, 2 doves, 1 partridge')\n"
   ]
  },
  {
   "cell_type": "markdown",
   "metadata": {},
   "source": [
    "The regular expression \\d+\\s\\w+ will match text that has one or more numeric digits (\\d+), followed by a whitespace character (\\s), followed by one or more letter/digit/underscore characters (\\w+). The findall() method returns all matching strings of the regex pattern in a list."
   ]
  },
  {
   "cell_type": "code",
   "execution_count": null,
   "metadata": {},
   "outputs": [],
   "source": [
    "### Making Your Own Character Classes"
   ]
  },
  {
   "cell_type": "markdown",
   "metadata": {},
   "source": [
    "There are times when you want to match a set of characters but the shorthand character classes (\\d, \\w, \\s, and so on) are too broad. You can define your own character class using square brackets.You can also include ranges of letters or numbers by using a hyphen. For example, the character class [a-zA-Z0-9]Note that inside the square brackets, the normal regular expression symbols are not interpreted as such. This means you do not need to escape the ., *, ?, or () characters with a preceding backslash. For example, the character class [0-5.] will match digits 0 to 5 and a period. You do not need to write it as [0-5\\.].\n",
    "By placing a caret character (^) just after the character class’s opening bracket, you can make a negative character class. A negative character class will match all the characters that are not in the character class"
   ]
  },
  {
   "cell_type": "code",
   "execution_count": 26,
   "metadata": {},
   "outputs": [
    {
     "data": {
      "text/plain": [
       "['o', 'o', 'o', 'e', 'a', 'a', 'o', 'o', 'A', 'O', 'O']"
      ]
     },
     "execution_count": 26,
     "metadata": {},
     "output_type": "execute_result"
    }
   ],
   "source": [
    "vowelRegex = re.compile(r'[aeiouAEIOU]')\n",
    "vowelRegex.findall('Robocop eats baby food. BABY FOOD.')"
   ]
  },
  {
   "cell_type": "code",
   "execution_count": null,
   "metadata": {},
   "outputs": [],
   "source": [
    "consonantRegex = re.compile(r'[^aeiouAEIOU]')\n",
    "consonantRegex.findall('Robocop eats baby food. BABY FOOD.')"
   ]
  },
  {
   "cell_type": "markdown",
   "metadata": {},
   "source": [
    "#### The Caret and Dollar Sign Characters\n",
    "You can also use the caret symbol (^) at the start of a regex to indicate that a match must occur at the beginning of the searched text. Likewise, you can put a dollar sign ($) at the end of the regex to indicate the string must end with this regex pattern. And you can use the ^ and $ together to indicate that the entire string must match the regex—that is, it’s not enough for a match to be made on some subset of the string"
   ]
  },
  {
   "cell_type": "code",
   "execution_count": 29,
   "metadata": {},
   "outputs": [
    {
     "name": "stdout",
     "output_type": "stream",
     "text": [
      "<re.Match object; span=(0, 5), match='Hello'>\n"
     ]
    },
    {
     "data": {
      "text/plain": [
       "True"
      ]
     },
     "execution_count": 29,
     "metadata": {},
     "output_type": "execute_result"
    }
   ],
   "source": [
    "beginsWithHello = re.compile(r'^Hello')\n",
    "print(beginsWithHello.search('Hello world!'))\n",
    "beginsWithHello.search('He said hello.') == None"
   ]
  },
  {
   "cell_type": "code",
   "execution_count": 30,
   "metadata": {},
   "outputs": [
    {
     "name": "stdout",
     "output_type": "stream",
     "text": [
      "<re.Match object; span=(16, 17), match='2'>\n"
     ]
    },
    {
     "data": {
      "text/plain": [
       "True"
      ]
     },
     "execution_count": 30,
     "metadata": {},
     "output_type": "execute_result"
    }
   ],
   "source": [
    "endsWithNumber = re.compile(r'\\d$')\n",
    "print(endsWithNumber.search('Your number is 42'))\n",
    "endsWithNumber.search('Your number is forty two.') == None"
   ]
  },
  {
   "cell_type": "markdown",
   "metadata": {},
   "source": [
    "The r'\\d$' regular expression string matches strings that end with a numeric character from 0 to 9. \n",
    "The r'^\\d+$' regular expression string matches strings that both begin and end with one or more numeric characters. \n",
    "I always confuse the meanings of these two symbols, so I use the mnemonic “Carrots cost dollars” to remind myself that the caret comes first and the dollar sign comes last."
   ]
  },
  {
   "cell_type": "code",
   "execution_count": 31,
   "metadata": {},
   "outputs": [
    {
     "name": "stdout",
     "output_type": "stream",
     "text": [
      "<re.Match object; span=(0, 10), match='1234567890'>\n",
      "True\n",
      "True\n"
     ]
    }
   ],
   "source": [
    "wholeStringIsNum = re.compile(r'^\\d+$')\n",
    "print(wholeStringIsNum.search('1234567890'))\n",
    "print(wholeStringIsNum.search('12345xyz67890') == None)\n",
    "print(wholeStringIsNum.search('12 34567890') == None)\n"
   ]
  },
  {
   "cell_type": "markdown",
   "metadata": {},
   "source": [
    "#### The Wildcard Character\n",
    "The . (or dot) character in a regular expression is called a wildcard and will match any character except for a newline Remember that the dot character will match just one character\n",
    "#### Matching Everything with Dot-Star\n",
    "Sometimes you will want to match everything and anything. For example, say you want to match the string 'First Name:', followed by any and all text, followed by 'Last Name:', and then followed by anything again. You can use the dot-star (.*) to stand in for that “anything.” Remember that the dot character means “any single character except the newline,” and the star character means “zero or more of the preceding character.”.The dot-star uses greedy mode: It will always try to match as much text as possible. To match any and all text in a nongreedy fashion, use the dot, star, and question mark (.*?). Like with curly brackets, the question mark tells Python to match in a nongreedy way."
   ]
  },
  {
   "cell_type": "code",
   "execution_count": 32,
   "metadata": {},
   "outputs": [
    {
     "data": {
      "text/plain": [
       "['cat', 'hat', 'sat', 'lat', 'mat']"
      ]
     },
     "execution_count": 32,
     "metadata": {},
     "output_type": "execute_result"
    }
   ],
   "source": [
    "atRegex = re.compile(r'.at')\n",
    "atRegex.findall('The cat in the hat sat on the flat mat.')"
   ]
  },
  {
   "cell_type": "code",
   "execution_count": 34,
   "metadata": {},
   "outputs": [
    {
     "name": "stdout",
     "output_type": "stream",
     "text": [
      "Al\n",
      "Sweigart\n"
     ]
    }
   ],
   "source": [
    "nameRegex = re.compile(r'First Name: (.*) Last Name: (.*)')\n",
    "mo = nameRegex.search('First Name: Al Last Name: Sweigart')\n",
    "print(mo.group(1))\n",
    "print(mo.group(2))"
   ]
  },
  {
   "cell_type": "code",
   "execution_count": 36,
   "metadata": {},
   "outputs": [
    {
     "name": "stdout",
     "output_type": "stream",
     "text": [
      "<To serve man>\n",
      "<To serve man> for dinner.>\n"
     ]
    }
   ],
   "source": [
    "nongreedyRegex = re.compile(r'<.*?>')\n",
    "mo1 = nongreedyRegex.search('<To serve man> for dinner.>')\n",
    "print(mo1.group())\n",
    "greedyRegex = re.compile(r'<.*>')\n",
    "mo2 = greedyRegex.search('<To serve man> for dinner.>')\n",
    "print(mo2.group())\n"
   ]
  },
  {
   "cell_type": "markdown",
   "metadata": {},
   "source": [
    "Both regexes roughly translate to “Match an opening angle bracket, followed by anything, followed by a closing angle bracket.” But the string '<To serve man> for dinner.>' has two possible matches for the closing angle bracket. In the nongreedy version of the regex, Python matches the shortest possible string: '<To serve man>'. In the greedy version, Python matches the longest possible string: '<To serve man> for dinner.>'."
   ]
  },
  {
   "cell_type": "markdown",
   "metadata": {},
   "source": [
    "##### Matching Newlines with the Dot Character\n",
    "The dot-star will match everything except a newline. By passing re.DOTALL as the second argument to re.compile(), you can make the dot character match all characters, including the newline character"
   ]
  },
  {
   "cell_type": "code",
   "execution_count": 38,
   "metadata": {},
   "outputs": [
    {
     "data": {
      "text/plain": [
       "'Serve the public trust.'"
      ]
     },
     "execution_count": 38,
     "metadata": {},
     "output_type": "execute_result"
    }
   ],
   "source": [
    "noNewlineRegex = re.compile('.*')\n",
    "noNewlineRegex.search('Serve the public trust.\\nProtect the innocent.\\nUphold the law.').group()\n"
   ]
  },
  {
   "cell_type": "code",
   "execution_count": 41,
   "metadata": {},
   "outputs": [
    {
     "data": {
      "text/plain": [
       "'Serve the public trust.\\nProtect the innocent.\\nUphold the law.'"
      ]
     },
     "execution_count": 41,
     "metadata": {},
     "output_type": "execute_result"
    }
   ],
   "source": [
    "newlineRegex = re.compile('.*', re.DOTALL)\n",
    "newlineRegex.search('Serve the public trust.\\nProtect the innocent.\\nUphold the law.').group()\n"
   ]
  },
  {
   "cell_type": "markdown",
   "metadata": {},
   "source": [
    "The regex noNewlineRegex, which did not have re.DOTALL passed to the re.compile() call that created it, will match everything only up to the first newline character, whereas newlineRegex, which did have re.DOTALL passed to re.compile(), matches everything. This is why the newlineRegex.search() call matches the full string, including its newline characters."
   ]
  },
  {
   "cell_type": "markdown",
   "metadata": {},
   "source": [
    "#### Review of Regex Symbols\n",
    "The ? matches zero or one of the preceding group.\n",
    "The * matches zero or more of the preceding group.\n",
    "The + matches one or more of the preceding group.\n",
    "The {n} matches exactly n of the preceding group.\n",
    "The {n,} matches n or more of the preceding group.\n",
    "The {,m} matches 0 to m of the preceding group.\n",
    "The {n,m} matches at least n and at most m of the preceding group.\n",
    "{n,m}? or *? or +? performs a nongreedy match of the preceding group.\n",
    "^spam means the string must begin with spam.\n",
    "spam$ means the string must end with spam.\n",
    "The . matches any character, except newline characters.\n",
    "\\d, \\w, and \\s match a digit, word, or space character, respectively.\n",
    "\\D, \\W, and \\S match anything except a digit, word, or space character, respectively.\n",
    "[abc] matches any character between the brackets (such as a, b, or c).\n",
    "[^abc] matches any character that isn’t between the brackets."
   ]
  },
  {
   "cell_type": "markdown",
   "metadata": {},
   "source": [
    "#### Case-Insensitive Matching\n",
    "sometimes you care only about matching the letters without worrying whether they’re uppercase or lowercase. To make your regex case-insensitive, you can pass re.IGNORECASE or re.I as a second argument to re.compile(). "
   ]
  },
  {
   "cell_type": "code",
   "execution_count": 46,
   "metadata": {},
   "outputs": [
    {
     "name": "stdout",
     "output_type": "stream",
     "text": [
      "Robocop\n",
      "ROBOCOP\n",
      "robocop\n"
     ]
    }
   ],
   "source": [
    "robocop = re.compile(r'robocop', re.I)\n",
    "print(robocop.search('Robocop is part man, part machine, all cop.').group())\n",
    "print(robocop.search('ROBOCOP protects the innocent.').group())\n",
    "print(robocop.search('Al, why does your programming book talk about robocop so much?').group())"
   ]
  },
  {
   "cell_type": "markdown",
   "metadata": {},
   "source": [
    "#### Substituting Strings with the sub() Method\n",
    "Regular expressions can not only find text patterns but can also substitute new text in place of those patterns. The sub() method for Regex objects is passed two arguments. The first argument is a string to replace any matches. The second is the string for the regular expression. The sub() method returns a string with the substitutions applied."
   ]
  },
  {
   "cell_type": "code",
   "execution_count": 47,
   "metadata": {},
   "outputs": [
    {
     "data": {
      "text/plain": [
       "'CENSORED gave the secret documents to CENSORED.'"
      ]
     },
     "execution_count": 47,
     "metadata": {},
     "output_type": "execute_result"
    }
   ],
   "source": [
    "namesRegex = re.compile(r'Agent \\w+')\n",
    "namesRegex.sub('CENSORED', 'Agent Alice gave the secret documents to Agent Bob.')"
   ]
  },
  {
   "cell_type": "code",
   "execution_count": 51,
   "metadata": {},
   "outputs": [
    {
     "data": {
      "text/plain": [
       "'A**** told C**** that E**** knew B**** was a double agent.'"
      ]
     },
     "execution_count": 51,
     "metadata": {},
     "output_type": "execute_result"
    }
   ],
   "source": [
    "agentNamesRegex = re.compile(r'Agent (\\w)\\w*')\n",
    "agentNamesRegex.sub(r'\\1****', 'Agent Alice told Agent Carol that Agent Eve knew Agent Bob was a double agent.')"
   ]
  },
  {
   "cell_type": "markdown",
   "metadata": {},
   "source": [
    "#### Managing Complex Regexes\n",
    "Regular expressions are fine if the text pattern you need to match is simple. But matching complicated text patterns might require long, convoluted regular expressions. You can mitigate this by telling the re.compile() function to ignore whitespace and comments inside the regular expression string. This “verbose mode” can be enabled by passing the variable re.VERBOSE as the second argument to re.compile()."
   ]
  },
  {
   "cell_type": "markdown",
   "metadata": {},
   "source": [
    "Now instead of a hard-to-read regular expression like this:\n",
    "phoneRegex = re.compile(r'((\\d{3}|\\(\\d{3}\\))?(\\s|-|\\.)?\\d{3}(\\s|-|\\.)\\d{4}\n",
    "(\\s*(ext|x|ext.)\\s*\\d{2,5})?)')\n",
    "\n",
    "you can spread the regular expression over multiple lines with comments like this:\n",
    "\n",
    "phoneRegex = re.compile(r'''(\n",
    "    (\\d{3}|\\(\\d{3}\\))?            # area code\n",
    "    (\\s|-|\\.)?                    # separator\n",
    "    \\d{3}                         # first 3 digits\n",
    "    (\\s|-|\\.)                     # separator\n",
    "    \\d{4}                         # last 4 digits\n",
    "    (\\s*(ext|x|ext.)\\s*\\d{2,5})?  # extension\n",
    "    )''', re.VERBOSE)\n",
    "Note how the previous example uses the triple-quote syntax (''') to create a multiline string so that you can spread the regular expression definition over many lines, making it much more legible."
   ]
  },
  {
   "cell_type": "markdown",
   "metadata": {},
   "source": [
    "#### Combining re.IGNORECASE, re.DOTALL, and re.VERBOSE\n",
    "What if you want to use re.VERBOSE to write comments in your regular expression but also want to use re.IGNORECASE to ignore capitalization? Unfortunately, the re.compile() function takes only a single value as its second argument. You can get around this limitation by combining the re.IGNORECASE, re.DOTALL, and re.VERBOSE variables using the pipe character (|), which in this context is known as the bitwise or operator."
   ]
  },
  {
   "cell_type": "code",
   "execution_count": 53,
   "metadata": {},
   "outputs": [
    {
     "ename": "SyntaxError",
     "evalue": "invalid syntax (<ipython-input-53-edac75fdc21f>, line 1)",
     "output_type": "error",
     "traceback": [
      "\u001b[1;36m  File \u001b[1;32m\"<ipython-input-53-edac75fdc21f>\"\u001b[1;36m, line \u001b[1;32m1\u001b[0m\n\u001b[1;33m    someRegexValue = re.compile('foo', re.IGNORECASE | re.DOTALL))\u001b[0m\n\u001b[1;37m                                                                 ^\u001b[0m\n\u001b[1;31mSyntaxError\u001b[0m\u001b[1;31m:\u001b[0m invalid syntax\n"
     ]
    }
   ],
   "source": [
    "someRegexValue = re.compile('foo', re.IGNORECASE | re.DOTALL))\n",
    "## All three options for the second argument will look like this:\n",
    "someRegexValue = re.compile('foo', re.IGNORECASE | re.DOTALL | re.VERBOSE))"
   ]
  },
  {
   "cell_type": "markdown",
   "metadata": {},
   "source": [
    "#### Project: Phone Number and Email Address Extractor\n",
    "Say you have the boring task of finding every phone number and email address in a long web page or document. If you manually scroll through the page, you might end up searching for a long time. But if you had a program that could search the text in your clipboard for phone numbers and email addresses, you could simply press CTRL-A to select all the text, press CTRL-C to copy it to the clipboard, and then run your program. It could replace the text on the clipboard with just the phone numbers and email addresses it finds."
   ]
  },
  {
   "cell_type": "code",
   "execution_count": null,
   "metadata": {},
   "outputs": [],
   "source": [
    "#! python3\n",
    "# phoneAndEmail.py - Finds phone numbers and email addresses on the clipboard.\n",
    "import pyperclip, re\n",
    "\n",
    "phoneRegex = re.compile(r'''(\n",
    "    (\\d{3}|\\(\\d{3}\\))?                # area code\n",
    "    (\\s|-|\\.)?                        # separator\n",
    "    (\\d{3})                           # first 3 digits\n",
    "    (\\s|-|\\.)                         # separator\n",
    "    (\\d{4})                           # last 4 digits\n",
    "    (\\s*(ext|x|ext.)\\s*(\\d{2,5}))?    # extension\n",
    "    )''', re.VERBOSE)\n",
    "# TODO: Create email regex.\n",
    "# TODO: Find matches in clipboard text.\n",
    "# TODO: Copy results to the clipboard."
   ]
  },
  {
   "cell_type": "markdown",
   "metadata": {},
   "source": [
    "The phone number begins with an optional area code, so the area code group is followed with a question mark. Since the area code can be just three digits (that is, \\d{3}) or three digits within parentheses (that is, \\(\\d{3}\\)), you should have a pipe joining those parts. You can add the regex comment # Area code to this part of the multiline string to help you remember what (\\d{3}|\\(\\d{3}\\))? is supposed to match.\n",
    "\n",
    "The phone number separator character can be a space (\\s), hyphen (-), or period (.), so these parts should also be joined by pipes. The next few parts of the regular expression are straightforward: three digits, followed by another separator, followed by four digits. The last part is an optional extension made up of any number of spaces followed by ext, x, or ext., followed by two to five digits.\n"
   ]
  },
  {
   "cell_type": "code",
   "execution_count": null,
   "metadata": {},
   "outputs": [],
   "source": [
    "#! python3\n",
    "# phoneAndEmail.py - Finds phone numbers and email addresses on the clipboard.\n",
    "import pyperclip, re\n",
    "phoneRegex = re.compile(r'''(\n",
    "   --snip--\n",
    "# Create email regex.\n",
    "emailRegex = re.compile(r'''(\n",
    "    [a-zA-Z0-9._%+-]+      # username\n",
    "    @                      # @ symbol\n",
    "    [a-zA-Z0-9.-]+         # domain name\n",
    "    (\\.[a-zA-Z]{2,4})      # dot-something\n",
    "    )''', re.VERBOSE)\n",
    "\n"
   ]
  },
  {
   "cell_type": "markdown",
   "metadata": {},
   "source": [
    "The username part of the email address ❶ is one or more characters that can be any of the following: lowercase and uppercase letters, numbers, a dot, an underscore, a percent sign, a plus sign, or a hyphen. You can put all of these into a character class: [a-zA-Z0-9._%+-].\n",
    "\n",
    "The domain and username are separated by an @ symbol ❷. The domain name ❸ has a slightly less permissive character class with only letters, numbers, periods, and hyphens: [a-zA-Z0-9.-]. And last will be the “dot-com” part (technically known as the top-level domain), which can really be dot-anything. This is between two and four characters.\n",
    "\n",
    "The format for email addresses has a lot of weird rules. This regular expression won’t match every possible valid email address, but it’ll match almost any typical email address you’ll encounter.\n"
   ]
  },
  {
   "cell_type": "code",
   "execution_count": null,
   "metadata": {},
   "outputs": [],
   "source": [
    "#! python3\n",
    "# phoneAndEmail.py - Finds phone numbers and email addresses on the clipboard.\n",
    "import pyperclip, re\n",
    "phoneRegex = re.compile(r'''(\n",
    "--snip--\n",
    "\n",
    "# Find matches in clipboard text.\n",
    "   text = str(pyperclip.paste())\n",
    "  matches = []\n",
    "  for groups in phoneRegex.findall(text):\n",
    "       phoneNum = '-'.join([groups[1], groups[3], groups[5]])\n",
    "       if groups[8] != '':\n",
    "           phoneNum += ' x' + groups[8]\n",
    "       matches.append(phoneNum)\n",
    "  for groups in emailRegex.findall(text):\n",
    "       matches.append(groups[0])\n"
   ]
  },
  {
   "cell_type": "markdown",
   "metadata": {},
   "source": [
    "There is one tuple for each match, and each tuple contains strings for each group in the regular expression. Remember that group 0 matches the entire regular expression, so the group at index 0 of the tuple is the one you are interested in.\n",
    "\n",
    "As you can see at ❶, you’ll store the matches in a list variable named matches. It starts off as an empty list, and a couple for loops. For the email addresses, you append group 0 of each match ❸. For the matched phone numbers, you don’t want to just append group 0. While the program detects phone numbers in several formats, you want the phone number appended to be in a single, standard format. The phoneNum variable contains a string built from groups 1, 3, 5, and 8 of the matched text ❷. (These groups are the area code, first three digits, last four digits, and extension.)\n"
   ]
  },
  {
   "cell_type": "code",
   "execution_count": null,
   "metadata": {},
   "outputs": [],
   "source": [
    "#! python3\n",
    "# phoneAndEmail.py - Finds phone numbers and email addresses on the clipboard.\n",
    "\n",
    "--snip--\n",
    "for groups in emailRegex.findall(text):\n",
    "    matches.append(groups[0])\n",
    "\n",
    "# Copy results to the clipboard.\n",
    "if len(matches) > 0:\n",
    "    pyperclip.copy('\\n'.join(matches))\n",
    "    print('Copied to clipboard:')\n",
    "    print('\\n'.join(matches))\n",
    "else:\n",
    "    print('No phone numbers or email addresses found.')"
   ]
  },
  {
   "cell_type": "markdown",
   "metadata": {},
   "source": [
    "Now that you have the email addresses and phone numbers as a list of strings in matches, you want to put them on the clipboard. The pyperclip.copy() function takes only a single string value, not a list of strings, so you call the join() method on matches.\n",
    "\n",
    "To make it easier to see that the program is working, let’s print any matches you find to the terminal. And if no phone numbers or email addresses were found, the program should tell the user this.\n"
   ]
  },
  {
   "cell_type": "markdown",
   "metadata": {},
   "source": [
    "1.In the regex created from r'(\\d\\d\\d)-(\\d\\d\\d-\\d\\d\\d\\d)', what does group 0 cover? Group 1? Group 2?\n",
    "Group 0 is the entire match, group 1 covers the first set of parentheses, and group 2 covers the second set of parentheses.\n",
    "2.'42'•'1,234'•'6,368,745'but not the following:•'12,34,567' (which has only two digits between the commas)•'1234' (which lacks commas)\n",
    "re.compile(r'^\\d{1,3}(,\\d{3})*$') will create this regex, but other regex strings can produce a similar regular expression"
   ]
  },
  {
   "cell_type": "code",
   "execution_count": null,
   "metadata": {},
   "outputs": [],
   "source": []
  },
  {
   "cell_type": "code",
   "execution_count": null,
   "metadata": {},
   "outputs": [],
   "source": []
  },
  {
   "cell_type": "code",
   "execution_count": null,
   "metadata": {},
   "outputs": [],
   "source": []
  },
  {
   "cell_type": "code",
   "execution_count": null,
   "metadata": {},
   "outputs": [],
   "source": []
  }
 ],
 "metadata": {
  "kernelspec": {
   "display_name": "Python 3",
   "language": "python",
   "name": "python3"
  },
  "language_info": {
   "codemirror_mode": {
    "name": "ipython",
    "version": 3
   },
   "file_extension": ".py",
   "mimetype": "text/x-python",
   "name": "python",
   "nbconvert_exporter": "python",
   "pygments_lexer": "ipython3",
   "version": "3.7.1"
  }
 },
 "nbformat": 4,
 "nbformat_minor": 2
}
