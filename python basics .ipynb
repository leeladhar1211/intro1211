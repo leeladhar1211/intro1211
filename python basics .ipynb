{
 "cells": [
  {
   "cell_type": "code",
   "execution_count": null,
   "metadata": {},
   "outputs": [],
   "source": [
    "8+6  #In python it is called as expression"
   ]
  },
  {
   "cell_type": "markdown",
   "metadata": {},
   "source": [
    "#### operators in python  precedence high is ** and low is +\n",
    " \n",
    " **\tExponent\t         2 ** 3\t8\n",
    " %\tModulus/remainder\t 22 % 8\t6\n",
    " //\tInteger division/floored quotient\t22 // 8\t2\n",
    " /\tDivision\t22 / 8\t2.75  *\tMultiplication\t3 * 5\t15 -\tSubtraction\t5 - 2\t3 +\tAddition\t2 + 2\t4\n"
   ]
  },
  {
   "cell_type": "markdown",
   "metadata": {},
   "source": [
    "exponent->modulus/remainder->integer division/floored quotient->division->multiplication->substraction->Addition"
   ]
  },
  {
   "cell_type": "code",
   "execution_count": null,
   "metadata": {},
   "outputs": [],
   "source": [
    "(5 - 1) * ((7 + 1) / (3 - 1))  #eval to 4 * 4.0"
   ]
  },
  {
   "cell_type": "code",
   "execution_count": null,
   "metadata": {},
   "outputs": [],
   "source": [
    "4+-5    #it will follow precedence "
   ]
  },
  {
   "cell_type": "markdown",
   "metadata": {},
   "source": [
    "Integers\t -2, -1, 0, 1, 2, 3, 4, 5\n",
    "Floating-point numbers\t -1.25, -1.0, --0.5, 0.0, 0.5, 1.0, 1.25\n",
    "Strings\t 'a', 'aa', 'aaa', 'Hello!', '11 cats'\n",
    "string(str) should be enclosed in single quotes \n",
    "You can even have a string with no characters in it, '', called a blank string. "
   ]
  },
  {
   "cell_type": "code",
   "execution_count": null,
   "metadata": {},
   "outputs": [],
   "source": [
    "print('Alice' + 'Bob') # we can concat two srings"
   ]
  },
  {
   "cell_type": "code",
   "execution_count": null,
   "metadata": {},
   "outputs": [],
   "source": [
    "'alice'+ str(int(87))"
   ]
  },
  {
   "cell_type": "code",
   "execution_count": null,
   "metadata": {},
   "outputs": [],
   "source": [
    "'Alice' * 5 #we can multiply string"
   ]
  },
  {
   "cell_type": "code",
   "execution_count": null,
   "metadata": {},
   "outputs": [],
   "source": [
    "'alice' * 'ice'"
   ]
  },
  {
   "cell_type": "code",
   "execution_count": null,
   "metadata": {},
   "outputs": [],
   "source": [
    "'Alice' * 5.0"
   ]
  },
  {
   "cell_type": "markdown",
   "metadata": {},
   "source": [
    "variable assignment(spam = 42 is like telling the program, The variable spam now has the integer value 42 in it.)"
   ]
  },
  {
   "cell_type": "code",
   "execution_count": null,
   "metadata": {},
   "outputs": [],
   "source": [
    "spam = 42\n",
    "eggs = 8\n",
    "spam + eggs"
   ]
  },
  {
   "cell_type": "code",
   "execution_count": null,
   "metadata": {},
   "outputs": [],
   "source": [
    "spam = spam + 2\n",
    "spam # A variable is initialized (or created) the first time a value is stored in it \n",
    "# After that, you can use it in expressions with other variables and values \n",
    "# when a variable is assigned a new value the old value is forgotten, \n",
    "# which is why spam evaluated to 42 instead of 40"
   ]
  },
  {
   "cell_type": "markdown",
   "metadata": {},
   "source": [
    "Valid variable names   balance , currentBalance , current_balance ,_spam,SPAM,account4\n",
    " \n",
    "Invalid variable names current-balance (hyphens are not allowed),current balance (spaces are not allowed),4account (can’t begin with a number)\n",
    "42 (can’t begin with a number),total_$um (special characters like $ are not allowed),'hello' (special characters like ' are not allowed)\n",
    " "
   ]
  },
  {
   "cell_type": "code",
   "execution_count": null,
   "metadata": {},
   "outputs": [],
   "source": [
    "# This program says hello and asks for my name.\n",
    "print('Hello world!')\n",
    "print('What is your name?')    # ask for their name\n",
    "myName = input()\n",
    "print('It is good to meet you, ' + myName)\n",
    "print('The length of your name is:')\n",
    "print(len(myName))\n",
    "print('What is your age?')    # ask for their age\n",
    "myAge = input()\n",
    "print('You will be ' + str(int(myAge) + 1) + ' in a year.')"
   ]
  },
  {
   "cell_type": "code",
   "execution_count": null,
   "metadata": {},
   "outputs": [],
   "source": [
    "name = input()\n",
    "age = input()\n",
    "print('my name is :'+ name)\n",
    "print('my age length is :'+ str(int(age)))"
   ]
  },
  {
   "cell_type": "code",
   "execution_count": null,
   "metadata": {},
   "outputs": [],
   "source": [
    "sapm =True"
   ]
  },
  {
   "cell_type": "code",
   "execution_count": null,
   "metadata": {},
   "outputs": [],
   "source": [
    "sapm\n"
   ]
  },
  {
   "cell_type": "code",
   "execution_count": null,
   "metadata": {},
   "outputs": [],
   "source": [
    "2==2"
   ]
  },
  {
   "cell_type": "code",
   "execution_count": null,
   "metadata": {},
   "outputs": [],
   "source": [
    "2<2"
   ]
  },
  {
   "cell_type": "code",
   "execution_count": null,
   "metadata": {},
   "outputs": [],
   "source": [
    "True and True  \n",
    "# t and t  t    or t\n",
    "# t and f  f    or t\n",
    "# f and t  f    or t\n",
    "# f and f  f    or f \n"
   ]
  },
  {
   "cell_type": "code",
   "execution_count": null,
   "metadata": {},
   "outputs": [],
   "source": [
    "True and False \n",
    "False and True\n",
    "False and False "
   ]
  },
  {
   "cell_type": "code",
   "execution_count": null,
   "metadata": {},
   "outputs": [],
   "source": [
    "(2+2)<(5-2) and (2+4)>(5-2)"
   ]
  },
  {
   "cell_type": "code",
   "execution_count": null,
   "metadata": {},
   "outputs": [],
   "source": [
    "#the block following the if statement) will execute if the statement’s condition is True. \n",
    "# The clause is skipped if the condition is False.\n",
    "#note :A condition is an expression used in a flow control statement that evaluates to a Boolean value.\n",
    "if(2+7==5):   ## always evalutes to a boolean value\n",
    "    print('IT is true')\n",
    "else:\n",
    "    print('It is not true')"
   ]
  },
  {
   "cell_type": "code",
   "execution_count": null,
   "metadata": {},
   "outputs": [],
   "source": [
    "#Once one of the statements’ conditions is found to be True, the rest of the elif clauses are automatically skipped\n",
    "name = 'Alie'\n",
    "age = 46\n",
    "if name == 'Alice':\n",
    "    print('Hi, Alice.')\n",
    "elif age < 12:\n",
    "    print('You are not Alice, kiddo.')\n",
    "elif age < 2000:\n",
    "    print('Unlike you, Alice is not an undead, immortal vampire.')\n",
    "else:\n",
    "    print('You are not Alice, gr.')"
   ]
  },
  {
   "cell_type": "code",
   "execution_count": null,
   "metadata": {},
   "outputs": [],
   "source": [
    "#You can make a block of code execute over and over again with a while statement. \n",
    "#The code in a while clause will be executed as long as the while statement’s condition is True\n",
    "spam = 0\n",
    "while spam < 3:\n",
    "    print('Hello, world.')\n",
    "    spam = spam + 1"
   ]
  },
  {
   "cell_type": "code",
   "execution_count": null,
   "metadata": {},
   "outputs": [],
   "source": [
    " # At the end of an if clause, the program execution continues after the if statement. \n",
    "#But at the end of a while clause, the program execution jumps back to the start of the while statement"
   ]
  },
  {
   "cell_type": "code",
   "execution_count": null,
   "metadata": {},
   "outputs": [],
   "source": [
    "# difference between if and while loop in the above code it loops until the condition is false\n",
    "spam = 0\n",
    "if spam < 5:\n",
    "    print('Hello, world.')\n",
    "    spam = spam + 1"
   ]
  },
  {
   "cell_type": "code",
   "execution_count": null,
   "metadata": {},
   "outputs": [],
   "source": [
    "# An annoying while loop\n",
    "name = ''                           # (1)\n",
    "while name != 'your name':          # (2)\n",
    "    print('Please type your name.')\n",
    "    name = input()\n",
    "    ## break                         # (3)\n",
    "print('Thank you!') "
   ]
  },
  {
   "cell_type": "code",
   "execution_count": null,
   "metadata": {},
   "outputs": [],
   "source": [
    "# If the execution reaches a break statement, it immediately exits the while loop’s clause\n",
    "# The break statement will move the execution outside and just after a loop.\n",
    "# The continue statement will move the execution to the start of the loop.\n",
    "while True:                         # (1)\n",
    "    print('Please type your name.')\n",
    "    name = input()  \n",
    "    break # (2)\n",
    "    if name == 'your name':         # (3)                      # (4)\n",
    "print('Thank you!')                 # (5)"
   ]
  },
  {
   "cell_type": "code",
   "execution_count": null,
   "metadata": {},
   "outputs": [],
   "source": [
    "## When the program execution reaches a continue statement, the program execution immediately \n",
    "# jumps back to the start of the loop and reevaluates the loop’s condition.\n",
    "## If you ever run a program that has a bug causing it to get stuck in an infinite loop, \n",
    "#press CTRL-C. This will send a KeyboardInterrupt error to your program and cause it to stop immediately."
   ]
  },
  {
   "cell_type": "code",
   "execution_count": null,
   "metadata": {},
   "outputs": [],
   "source": [
    "while True:\n",
    "  print('Who are you?')\n",
    "  name = input()\n",
    "  if name != 'Joe':       #(1)\n",
    "    continue              #(2) here it will again go to condition statement \n",
    "  print('Hello, Joe. What is the password? (It is a fish.)') \n",
    "  password = input()      #(3)\n",
    "  if password == 'swordfish':\n",
    "    break                 #(4)\n",
    "print('Access granted.')  #(5)"
   ]
  },
  {
   "cell_type": "code",
   "execution_count": null,
   "metadata": {},
   "outputs": [],
   "source": [
    "##The while loop keeps looping while its condition is True (which is the reason for its name), \n",
    "#but what if you want to execute a block of code only a certain number of times? You can do this with a for loop statement and the range() function."
   ]
  },
  {
   "cell_type": "markdown",
   "metadata": {},
   "source": [
    "\n",
    " The for keyword , A variable name , The in keyword A call to the range() method with up to three integers passed to it,A colon ,Starting on the next line, an indented block of code (called the for clause)\n",
    " \n",
    " The code in the for loop’s clause is run five times. The first time it is run, the variable i is set to 0. The print() call in the clause will print Jimmy Five Times (0). After Python finishes an iteration through all the code inside the for loop’s clause, the execution goes back to the top of the loop, and the for statement increments i by one. This is why range(5) results in five iterations through the clause, with i being set to 0, then 1, then 2, then 3, and then 4. The variable i will go up to, but will not include, the integer passed to range()\n",
    "\n",
    "note :You can use break and continue statements inside for loops as well."
   ]
  },
  {
   "cell_type": "code",
   "execution_count": null,
   "metadata": {},
   "outputs": [],
   "source": [
    "print('My name is')\n",
    "for i in range(5):\n",
    "    print('Jimmy Five Times (' + str(i) + ')')"
   ]
  },
  {
   "cell_type": "code",
   "execution_count": null,
   "metadata": {},
   "outputs": [],
   "source": [
    "## An equivalent while loop\n",
    "print('My name is')\n",
    "i = 0\n",
    "while i < 5:\n",
    "    print('Jimmy Five Times (' + str(i) + ')')\n",
    "    i = i + 1"
   ]
  },
  {
   "cell_type": "code",
   "execution_count": null,
   "metadata": {},
   "outputs": [],
   "source": [
    "total = 0               #(1)\n",
    "for num in range(101):  #(2)\n",
    "   total = total + num  #(3)\n",
    "print(total)  "
   ]
  },
  {
   "cell_type": "code",
   "execution_count": null,
   "metadata": {},
   "outputs": [],
   "source": [
    "for i in range(12, 16):\n",
    "    print(i)"
   ]
  },
  {
   "cell_type": "code",
   "execution_count": null,
   "metadata": {},
   "outputs": [],
   "source": [
    "## The range() function can also be called with three arguments. The first two arguments will be the start and stop\n",
    "# values, and the third will be the step argument. The step is the amount that the variable is increased by after each iteration.\n"
   ]
  },
  {
   "cell_type": "code",
   "execution_count": null,
   "metadata": {},
   "outputs": [],
   "source": [
    "for i in range(0, 10, 2):\n",
    "    print(i)"
   ]
  },
  {
   "cell_type": "code",
   "execution_count": null,
   "metadata": {},
   "outputs": [],
   "source": [
    "for i in range(5, -1, -1):\n",
    "    print(i)"
   ]
  },
  {
   "cell_type": "markdown",
   "metadata": {},
   "source": [
    "Before you can use the functions in a module, you must import the module with an import statement. \n",
    "In code, an import statement consists of the following: The import keyword , The name of the module,\n",
    "Optionally more module names as long as they are separated by commas\n",
    "Here’s an example of an import statement that imports four different modules:\n",
    "import random, sys, os, math\n",
    "\n",
    "If you had a function named bacon() inside a module named spam, how would you call it after importing spam?\n",
    "spam.bacon()"
   ]
  },
  {
   "cell_type": "code",
   "execution_count": null,
   "metadata": {},
   "outputs": [],
   "source": [
    "import random ,sys\n",
    "for i in range(5):\n",
    "    print(random.randint(1, 10))"
   ]
  },
  {
   "cell_type": "markdown",
   "metadata": {},
   "source": [
    "from import Statements\n",
    "An alternative form of the import statement is composed of the from keyword, followed by the module name, the import keyword, and a star; for example, from random import *.\n",
    "With this form of import statement, calls to functions in random will not need the random. prefix. However, using the full name makes for more readable code, so it is better to use the normal form of the import statement.\n",
    "\n",
    "Ending a program early with sys.exit()"
   ]
  },
  {
   "cell_type": "code",
   "execution_count": null,
   "metadata": {},
   "outputs": [],
   "source": [
    "## This program has an infinite loop with no break statement inside. The only way this program will end is if the user enters exit, causing sys.exit() to be called. When response is equal to exit, the program ends. \n",
    "#Since the response variable is set by the input() function, the user must enter exit in order to stop the program.\n",
    "\n",
    "import sys\n",
    "\n",
    "while True:\n",
    "    print('Type exit to exit.')\n",
    "    response = input()\n",
    "    if response == 'exit':\n",
    "        sys.exit()\n",
    "    print('You typed ' + response + '.')"
   ]
  },
  {
   "cell_type": "markdown",
   "metadata": {},
   "source": [
    "abs(number) The abs() function is used to return the absolute value of a number.\n",
    "With a negative number, abs() will return a positive number as absolute values are always positive numbers or zero. \n",
    "number : Can be integer, a floating point\n",
    "number or a complex number\n",
    "\n",
    "Python provides an inbuilt function round()  which rounds off to the given number of digits and returns the floating point number, if no number of digits is provided for round off , it rounds off the number to the nearest integer.\n",
    "round(number, number of digits)"
   ]
  },
  {
   "cell_type": "markdown",
   "metadata": {},
   "source": [
    "floating point number \n",
    "float = -54.26\n",
    "print('Absolute value of integer is:', abs(float)) \n",
    "  \n",
    "An integer \n",
    "int = -94\n",
    "print('Absolute value of float is:', abs(int)) \n",
    "  \n",
    "A complex number \n",
    "complex = (3 - 4j) \n",
    "print('Absolute value or Magnitude of complex is:', abs(complex)) \n",
    "\n",
    "print(round(51.6))  \n",
    "print(round(51.5))   \n",
    "print(round(51.4))  \n"
   ]
  },
  {
   "cell_type": "code",
   "execution_count": null,
   "metadata": {},
   "outputs": [],
   "source": [
    "# Date Functions\n",
    "import datetime"
   ]
  },
  {
   "cell_type": "code",
   "execution_count": null,
   "metadata": {},
   "outputs": [],
   "source": [
    "# How to get the current date and the time in Python\n",
    "datetime.datetime.now()"
   ]
  },
  {
   "cell_type": "code",
   "execution_count": null,
   "metadata": {},
   "outputs": [],
   "source": [
    "# To get the date alone, use the datetime.date.today() instead.\n",
    "datetime.date.today() "
   ]
  },
  {
   "cell_type": "code",
   "execution_count": null,
   "metadata": {},
   "outputs": [],
   "source": [
    "print(datetime.date.today())"
   ]
  },
  {
   "cell_type": "code",
   "execution_count": null,
   "metadata": {},
   "outputs": [],
   "source": [
    "# How to create the datetime object\n",
    "datetime.datetime(2001, 1, 31, 10, 51, 0)"
   ]
  },
  {
   "cell_type": "code",
   "execution_count": null,
   "metadata": {},
   "outputs": [],
   "source": []
  },
  {
   "cell_type": "code",
   "execution_count": null,
   "metadata": {},
   "outputs": [],
   "source": []
  },
  {
   "cell_type": "code",
   "execution_count": null,
   "metadata": {},
   "outputs": [],
   "source": []
  },
  {
   "cell_type": "code",
   "execution_count": null,
   "metadata": {},
   "outputs": [],
   "source": []
  },
  {
   "cell_type": "code",
   "execution_count": null,
   "metadata": {},
   "outputs": [],
   "source": []
  },
  {
   "cell_type": "code",
   "execution_count": null,
   "metadata": {},
   "outputs": [],
   "source": []
  }
 ],
 "metadata": {
  "kernelspec": {
   "display_name": "Python 3",
   "language": "python",
   "name": "python3"
  },
  "language_info": {
   "codemirror_mode": {
    "name": "ipython",
    "version": 3
   },
   "file_extension": ".py",
   "mimetype": "text/x-python",
   "name": "python",
   "nbconvert_exporter": "python",
   "pygments_lexer": "ipython3",
   "version": "3.7.1"
  }
 },
 "nbformat": 4,
 "nbformat_minor": 2
}
